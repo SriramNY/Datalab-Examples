{
 "cells": [
  {
   "cell_type": "markdown",
   "metadata": {
    "colab_type": "text",
    "deletable": true,
    "editable": true,
    "id": "9J7p406abzgl"
   },
   "source": [
    "## Introduction to Google Cloud Datalab\n",
    "\n",
    "Cloud Datalab is a powerful interactive tool created to explore, analyze, transform and visualize data and build machine learning models on Google Cloud Platform. It runs on Google Compute Engine and connects to multiple cloud services easily so you can focus on your data science tasks.\n"
   ]
  },
  {
   "cell_type": "markdown",
   "metadata": {
    "colab_type": "text",
    "deletable": true,
    "editable": true,
    "id": "8iU2gnJFItM1"
   },
   "source": [
    "## Python 3\n",
    "\n",
    "Datalab supports both Python2 and Python3 for code execution. \n",
    "\n",
    "* When creating a new notebook, you'll have the choice between Python 2 and Python 3.\n",
    "* You can also change the language associated with a notebook; this information will be written into the `.ipynb` file itself, and thus will be preserved for future sessions."
   ]
  },
  {
   "cell_type": "code",
   "execution_count": 2,
   "metadata": {
    "colab": {
     "autoexec": {
      "startup": false,
      "wait_interval": 0
     },
     "height": 34,
     "output_extras": [
      {}
     ]
    },
    "colab_type": "code",
    "collapsed": false,
    "deletable": true,
    "editable": true,
    "id": "na0VvPXmYKp1",
    "outputId": "8fc2e3eb-f805-4d7a-c6a4-da9d8143603c"
   },
   "outputs": [
    {
     "name": "stdout",
     "output_type": "stream",
     "text": [
      "Hello, Datalab from Google. Python version 3!\n"
     ]
    }
   ],
   "source": [
    "import sys\n",
    "print('Hello, Datalab from Google. Python version {}!'.format(sys.version_info[0]))"
   ]
  },
  {
   "cell_type": "markdown",
   "metadata": {
    "colab_type": "text",
    "deletable": true,
    "editable": true,
    "id": "9wi5kfGdhK0R"
   },
   "source": [
    "## TensorFlow execution"
   ]
  },
  {
   "cell_type": "markdown",
   "metadata": {
    "colab_type": "text",
    "deletable": true,
    "editable": true,
    "id": "S9GW-n-oYWIj"
   },
   "source": [
    "Datalab allows you to execute TensorFlow code in your browser with a single click. The example below adds two matrices.\n",
    "\n",
    "$\\begin{bmatrix}\n",
    "  1. & 1. & 1. \\\\\n",
    "  1. & 1. & 1. \\\\\n",
    "\\end{bmatrix} +\n",
    "\\begin{bmatrix}\n",
    "  1. & 2. & 3. \\\\\n",
    "  4. & 5. & 6. \\\\\n",
    "\\end{bmatrix} =\n",
    "\\begin{bmatrix}\n",
    "  2. & 3. & 4. \\\\\n",
    "  5. & 6. & 7. \\\\\n",
    "\\end{bmatrix}$"
   ]
  },
  {
   "cell_type": "code",
   "execution_count": 4,
   "metadata": {
    "colab": {
     "autoexec": {
      "startup": false,
      "wait_interval": 0
     },
     "base_uri": "https://8080-dot-3269648-dot-devshell.appspot.com/",
     "height": 51,
     "output_extras": [
      {}
     ]
    },
    "colab_type": "code",
    "collapsed": false,
    "deletable": true,
    "editable": true,
    "id": "mwdQ1INEZKkb",
    "outputId": "f81c612c-9102-4dce-b70d-39c1672b7749"
   },
   "outputs": [
    {
     "data": {
      "text/plain": [
       "array([[2., 3., 4.],\n",
       "       [5., 6., 7.]], dtype=float32)"
      ]
     },
     "execution_count": 4,
     "metadata": {},
     "output_type": "execute_result"
    }
   ],
   "source": [
    "import tensorflow as tf\n",
    "import numpy as np\n",
    "\n",
    "with tf.Session():\n",
    "  input1 = tf.constant(1.0, shape=[2, 3])\n",
    "  input2 = tf.constant(np.reshape(np.arange(1.0, 7.0, dtype=np.float32), (2, 3)))\n",
    "  output = tf.add(input1, input2)\n",
    "  result = output.eval()\n",
    "\n",
    "result"
   ]
  },
  {
   "cell_type": "markdown",
   "metadata": {
    "colab_type": "text",
    "deletable": true,
    "editable": true,
    "id": "yv2XIwi5hQ_g"
   },
   "source": [
    "## Visualization"
   ]
  },
  {
   "cell_type": "markdown",
   "metadata": {
    "colab_type": "text",
    "deletable": true,
    "editable": true,
    "id": "rYs5mx2JZkmy"
   },
   "source": [
    "Datalab includes widely used libraries like [matplotlib](https://matplotlib.org/), simplifying visualization."
   ]
  },
  {
   "cell_type": "code",
   "execution_count": 6,
   "metadata": {
    "colab": {
     "autoexec": {
      "startup": false,
      "wait_interval": 0
     },
     "height": 360,
     "output_extras": [
      {}
     ]
    },
    "colab_type": "code",
    "collapsed": false,
    "deletable": true,
    "editable": true,
    "id": "xqrc5C-IaA5J",
    "outputId": "3460cc84-faf8-4d8c-a4e6-96a6809c389a"
   },
   "outputs": [
    {
     "name": "stderr",
     "output_type": "stream",
     "text": [
      "/usr/local/envs/py3env/lib/python3.5/site-packages/matplotlib/font_manager.py:1320: UserWarning: findfont: Font family ['sans-serif'] not found. Falling back to DejaVu Sans\n",
      "  (prop.get_family(), self.defaultFamily[fontext]))\n"
     ]
    },
    {
     "data": {
      "image/png": "[encoded data removed]",
      "text/plain": [
       "<matplotlib.figure.Figure at 0x7fb6f006b940>"
      ]
     },
     "metadata": {},
     "output_type": "display_data"
    }
   ],
   "source": [
    "import matplotlib.pyplot as plt\n",
    "import numpy as np\n",
    "\n",
    "x = np.arange(20)\n",
    "y = [x_i + np.random.randn(1) for x_i in x]\n",
    "a, b = np.polyfit(x, y, 1)\n",
    "_ = plt.plot(x, y, 'o', np.arange(20), a*np.arange(20)+b, '-')"
   ]
  },
  {
   "cell_type": "markdown",
   "metadata": {
    "colab_type": "text",
    "deletable": true,
    "editable": true,
    "id": "AN_LRQ9NkOjs"
   },
   "source": [
    "Want to use a new library?  `pip install` it. For recipes to import commonly used libraries, refer to the [importing libraries example notebook](/notebooks/snippets/importing_libraries.ipynb)"
   ]
  },
  {
   "cell_type": "code",
   "execution_count": 7,
   "metadata": {
    "colab": {
     "autoexec": {
      "startup": false,
      "wait_interval": 0
     },
     "base_uri": "https://8080-dot-3269648-dot-devshell.appspot.com/",
     "height": 349,
     "output_extras": [
      {}
     ]
    },
    "colab_type": "code",
    "collapsed": false,
    "deletable": true,
    "editable": true,
    "id": "FlQq0SUepQbd",
    "outputId": "6e404831-3336-4633-b76f-c6313ecdd356"
   },
   "outputs": [
    {
     "name": "stderr",
     "output_type": "stream",
     "text": [
      "/usr/local/envs/py3env/lib/python3.5/site-packages/matplotlib/font_manager.py:1320: UserWarning: findfont: Font family ['sans-serif'] not found. Falling back to DejaVu Sans\n",
      "  (prop.get_family(), self.defaultFamily[fontext]))\n"
     ]
    },
    {
     "data": {
      "image/png": "[encoded data removed]",
      "text/plain": [
       "<matplotlib.figure.Figure at 0x7fb6f002e5c0>"
      ]
     },
     "metadata": {},
     "output_type": "display_data"
    }
   ],
   "source": [
    "# Only needs to be run once at the top of the notebook.\n",
    "!pip install -q matplotlib-venn\n",
    "\n",
    "# Now the newly-installed library can be used anywhere else in the notebook.\n",
    "from matplotlib_venn import venn2\n",
    "_ = venn2(subsets = (3, 2, 1))"
   ]
  },
  {
   "cell_type": "markdown",
   "metadata": {},
   "source": [
    "### Bar charts and histograms"
   ]
  },
  {
   "cell_type": "code",
   "execution_count": 1,
   "metadata": {
    "collapsed": false
   },
   "outputs": [
    {
     "name": "stderr",
     "output_type": "stream",
     "text": [
      "/usr/local/envs/py3env/lib/python3.5/site-packages/matplotlib/font_manager.py:1320: UserWarning: findfont: Font family ['sans-serif'] not found. Falling back to DejaVu Sans\n",
      "  (prop.get_family(), self.defaultFamily[fontext]))\n"
     ]
    },
    {
     "data": {
      "image/png": "[encoded data removed]",
      "text/plain": [
       "<matplotlib.figure.Figure at 0x7f67a2e3b780>"
      ]
     },
     "metadata": {},
     "output_type": "display_data"
    }
   ],
   "source": [
    "import matplotlib.pyplot as plt\n",
    "\n",
    "# Look at index 4 and 6, which demonstrate overlapping cases.\n",
    "x1 = [1, 3, 4, 5, 6, 7, 9]\n",
    "y1 = [4, 7, 2, 4, 7, 8, 3]\n",
    "\n",
    "x2 = [2, 4, 6, 8, 10]\n",
    "y2 = [5, 6, 2, 6, 2]\n",
    "\n",
    "# Colors: https://matplotlib.org/api/colors_api.html\n",
    "\n",
    "plt.bar(x1, y1, label=\"Blue Bar\", color='b')\n",
    "plt.bar(x2, y2, label=\"Green Bar\", color='g')\n",
    "plt.plot()\n",
    "\n",
    "plt.xlabel(\"bar number\")\n",
    "plt.ylabel(\"bar height\")\n",
    "plt.title(\"Bar Chart Example\")\n",
    "plt.legend()\n",
    "plt.show()"
   ]
  },
  {
   "cell_type": "code",
   "execution_count": 2,
   "metadata": {
    "collapsed": false
   },
   "outputs": [
    {
     "name": "stderr",
     "output_type": "stream",
     "text": [
      "/usr/local/envs/py3env/lib/python3.5/site-packages/matplotlib/font_manager.py:1320: UserWarning: findfont: Font family ['sans-serif'] not found. Falling back to DejaVu Sans\n",
      "  (prop.get_family(), self.defaultFamily[fontext]))\n"
     ]
    },
    {
     "data": {
      "image/png": "[encoded data removed]",
      "text/plain": [
       "<matplotlib.figure.Figure at 0x7f67d526f630>"
      ]
     },
     "metadata": {},
     "output_type": "display_data"
    },
    {
     "data": {
      "image/png": "[encoded data removed]",
      "text/plain": [
       "<matplotlib.figure.Figure at 0x7f67a2ebe358>"
      ]
     },
     "metadata": {},
     "output_type": "display_data"
    },
    {
     "data": {
      "image/png": "[encoded data removed]",
      "text/plain": [
       "<matplotlib.figure.Figure at 0x7f67ab4cc5c0>"
      ]
     },
     "metadata": {},
     "output_type": "display_data"
    }
   ],
   "source": [
    "import matplotlib.pyplot as plt\n",
    "import numpy as np\n",
    "\n",
    "# Use numpy to generate a bunch of random data in a bell curve around 5.\n",
    "n = 5 + np.random.randn(1000)\n",
    "\n",
    "m = [m for m in range(len(n))]\n",
    "plt.bar(m, n)\n",
    "plt.title(\"Raw Data\")\n",
    "plt.show()\n",
    "\n",
    "plt.hist(n, bins=20)\n",
    "plt.title(\"Histogram\")\n",
    "plt.show()\n",
    "\n",
    "plt.hist(n, cumulative=True, bins=20)\n",
    "plt.title(\"Cumulative Histogram\")\n",
    "plt.show()"
   ]
  },
  {
   "cell_type": "markdown",
   "metadata": {},
   "source": [
    "### Pie charts"
   ]
  },
  {
   "cell_type": "code",
   "execution_count": 3,
   "metadata": {
    "collapsed": false
   },
   "outputs": [
    {
     "name": "stderr",
     "output_type": "stream",
     "text": [
      "/usr/local/envs/py3env/lib/python3.5/site-packages/matplotlib/font_manager.py:1320: UserWarning: findfont: Font family ['sans-serif'] not found. Falling back to DejaVu Sans\n",
      "  (prop.get_family(), self.defaultFamily[fontext]))\n"
     ]
    },
    {
     "data": {
      "image/png": "[encoded data removed]",
      "text/plain": [
       "<matplotlib.figure.Figure at 0x7f67aaf35320>"
      ]
     },
     "metadata": {},
     "output_type": "display_data"
    }
   ],
   "source": [
    "import matplotlib.pyplot as plt\n",
    "\n",
    "labels = 'S1', 'S2', 'S3'\n",
    "sections = [56, 66, 24]\n",
    "colors = ['c', 'g', 'y']\n",
    "\n",
    "plt.pie(sections, labels=labels, colors=colors,\n",
    "        startangle=90,\n",
    "        explode = (0, 0.1, 0),\n",
    "        autopct = '%1.2f%%')\n",
    "\n",
    "plt.axis('equal') # Try commenting this out.\n",
    "plt.title('Pie Chart Example')\n",
    "plt.show()"
   ]
  },
  {
   "cell_type": "markdown",
   "metadata": {},
   "source": [
    "# Bigquery connection\n",
    "\n",
    "\n",
    "1.   Use the [Cloud Resource Manager](https://console.cloud.google.com/cloud-resource-manager) to Create a Cloud Platform project if you do not already have one.\n",
    "2.   [Enable billing](https://support.google.com/cloud/answer/6293499#enable-billing) for the project.\n",
    "3.   [Enable BigQuery](https://console.cloud.google.com/flows/enableapi?apiid=bigquery) APIs for the project.\n"
   ]
  },
  {
   "cell_type": "markdown",
   "metadata": {},
   "source": [
    "# Use BigQuery through Pandas\n",
    "\n",
    "[Pandas GBQ Documentation](https://pandas.pydata.org/pandas-docs/stable/generated/pandas.read_gbq.html)\n",
    "\n",
    "The [GSOD sample table](https://bigquery.cloud.google.com/table/bigquery-public-data:samples.gsod) contains weather information collected by NOAA, such as precipitation amounts and wind speeds from late 1929 to early 2010.\n"
   ]
  },
  {
   "cell_type": "markdown",
   "metadata": {},
   "source": [
    "### Sample approximately 2000 rows from bigquery table"
   ]
  },
  {
   "cell_type": "code",
   "execution_count": 4,
   "metadata": {
    "collapsed": false
   },
   "outputs": [
    {
     "name": "stdout",
     "output_type": "stream",
     "text": [
      "Full dataset has 114420316 rows\n"
     ]
    }
   ],
   "source": [
    "project_id = 'predictive-maintenance-5'\n",
    "\n",
    "import pandas as pd\n",
    "\n",
    "sample_count = 2000\n",
    "row_count = pd.io.gbq.read_gbq('''\n",
    "  SELECT \n",
    "    COUNT(*) as total\n",
    "  FROM [bigquery-public-data:samples.gsod]''', project_id=project_id, verbose=False).total[0]\n",
    "\n",
    "df = pd.io.gbq.read_gbq('''\n",
    "  SELECT\n",
    "    *\n",
    "  FROM\n",
    "    [bigquery-public-data:samples.gsod]\n",
    "  WHERE RAND() < %d/%d\n",
    "''' % (sample_count, row_count), project_id=project_id, verbose=False)\n",
    "\n",
    "print('Full dataset has %d rows' % row_count)"
   ]
  },
  {
   "cell_type": "markdown",
   "metadata": {},
   "source": [
    "### Sample statistics"
   ]
  },
  {
   "cell_type": "code",
   "execution_count": 5,
   "metadata": {
    "collapsed": false
   },
   "outputs": [
    {
     "data": {
      "text/html": [
       "<div>\n",
       "<style scoped>\n",
       "    .dataframe tbody tr th:only-of-type {\n",
       "        vertical-align: middle;\n",
       "    }\n",
       "\n",
       "    .dataframe tbody tr th {\n",
       "        vertical-align: top;\n",
       "    }\n",
       "\n",
       "    .dataframe thead th {\n",
       "        text-align: right;\n",
       "    }\n",
       "</style>\n",
       "<table border=\"1\" class=\"dataframe\">\n",
       "  <thead>\n",
       "    <tr style=\"text-align: right;\">\n",
       "      <th></th>\n",
       "      <th>station_number</th>\n",
       "      <th>wban_number</th>\n",
       "      <th>year</th>\n",
       "      <th>month</th>\n",
       "      <th>day</th>\n",
       "      <th>mean_temp</th>\n",
       "      <th>num_mean_temp_samples</th>\n",
       "      <th>mean_dew_point</th>\n",
       "      <th>mean_sealevel_pressure</th>\n",
       "      <th>mean_station_pressure</th>\n",
       "      <th>mean_visibility</th>\n",
       "      <th>mean_wind_speed</th>\n",
       "      <th>max_sustained_wind_speed</th>\n",
       "      <th>max_gust_wind_speed</th>\n",
       "      <th>max_temperature</th>\n",
       "      <th>min_temperature</th>\n",
       "      <th>total_precipitation</th>\n",
       "      <th>snow_depth</th>\n",
       "    </tr>\n",
       "  </thead>\n",
       "  <tbody>\n",
       "    <tr>\n",
       "      <th>count</th>\n",
       "      <td>2017.000000</td>\n",
       "      <td>2017.000000</td>\n",
       "      <td>2017.000000</td>\n",
       "      <td>2017.000000</td>\n",
       "      <td>2017.000000</td>\n",
       "      <td>2017.000000</td>\n",
       "      <td>2017.000000</td>\n",
       "      <td>1930.000000</td>\n",
       "      <td>1540.000000</td>\n",
       "      <td>705.000000</td>\n",
       "      <td>1833.000000</td>\n",
       "      <td>1987.000000</td>\n",
       "      <td>1957.000000</td>\n",
       "      <td>278.000000</td>\n",
       "      <td>2016.000000</td>\n",
       "      <td>0.0</td>\n",
       "      <td>1864.000000</td>\n",
       "      <td>120.000000</td>\n",
       "    </tr>\n",
       "    <tr>\n",
       "      <th>mean</th>\n",
       "      <td>509973.126921</td>\n",
       "      <td>90457.076351</td>\n",
       "      <td>1987.151215</td>\n",
       "      <td>6.525533</td>\n",
       "      <td>15.782846</td>\n",
       "      <td>52.004561</td>\n",
       "      <td>13.050570</td>\n",
       "      <td>41.554663</td>\n",
       "      <td>1014.837663</td>\n",
       "      <td>964.988512</td>\n",
       "      <td>12.338843</td>\n",
       "      <td>6.816105</td>\n",
       "      <td>12.179663</td>\n",
       "      <td>25.170144</td>\n",
       "      <td>43.433036</td>\n",
       "      <td>NaN</td>\n",
       "      <td>0.065869</td>\n",
       "      <td>11.815000</td>\n",
       "    </tr>\n",
       "    <tr>\n",
       "      <th>std</th>\n",
       "      <td>296952.234483</td>\n",
       "      <td>26155.478601</td>\n",
       "      <td>15.822692</td>\n",
       "      <td>3.460300</td>\n",
       "      <td>8.742766</td>\n",
       "      <td>23.854037</td>\n",
       "      <td>7.932779</td>\n",
       "      <td>22.282850</td>\n",
       "      <td>9.437207</td>\n",
       "      <td>71.864377</td>\n",
       "      <td>10.154338</td>\n",
       "      <td>4.997336</td>\n",
       "      <td>6.823403</td>\n",
       "      <td>9.906159</td>\n",
       "      <td>23.664468</td>\n",
       "      <td>NaN</td>\n",
       "      <td>0.271214</td>\n",
       "      <td>14.265282</td>\n",
       "    </tr>\n",
       "    <tr>\n",
       "      <th>min</th>\n",
       "      <td>10016.000000</td>\n",
       "      <td>13.000000</td>\n",
       "      <td>1930.000000</td>\n",
       "      <td>1.000000</td>\n",
       "      <td>1.000000</td>\n",
       "      <td>-42.099998</td>\n",
       "      <td>4.000000</td>\n",
       "      <td>-48.099998</td>\n",
       "      <td>962.000000</td>\n",
       "      <td>601.900024</td>\n",
       "      <td>0.000000</td>\n",
       "      <td>0.000000</td>\n",
       "      <td>1.000000</td>\n",
       "      <td>6.000000</td>\n",
       "      <td>-47.000000</td>\n",
       "      <td>NaN</td>\n",
       "      <td>0.000000</td>\n",
       "      <td>0.400000</td>\n",
       "    </tr>\n",
       "    <tr>\n",
       "      <th>25%</th>\n",
       "      <td>251730.000000</td>\n",
       "      <td>99999.000000</td>\n",
       "      <td>1977.000000</td>\n",
       "      <td>4.000000</td>\n",
       "      <td>8.000000</td>\n",
       "      <td>36.900002</td>\n",
       "      <td>7.000000</td>\n",
       "      <td>28.299999</td>\n",
       "      <td>1009.400024</td>\n",
       "      <td>949.299988</td>\n",
       "      <td>6.400000</td>\n",
       "      <td>3.400000</td>\n",
       "      <td>7.800000</td>\n",
       "      <td>19.000000</td>\n",
       "      <td>30.200001</td>\n",
       "      <td>NaN</td>\n",
       "      <td>0.000000</td>\n",
       "      <td>3.025000</td>\n",
       "    </tr>\n",
       "    <tr>\n",
       "      <th>50%</th>\n",
       "      <td>549160.000000</td>\n",
       "      <td>99999.000000</td>\n",
       "      <td>1989.000000</td>\n",
       "      <td>6.000000</td>\n",
       "      <td>16.000000</td>\n",
       "      <td>55.799999</td>\n",
       "      <td>8.000000</td>\n",
       "      <td>43.799999</td>\n",
       "      <td>1014.500000</td>\n",
       "      <td>993.200012</td>\n",
       "      <td>9.600000</td>\n",
       "      <td>5.800000</td>\n",
       "      <td>11.100000</td>\n",
       "      <td>23.900000</td>\n",
       "      <td>46.000000</td>\n",
       "      <td>NaN</td>\n",
       "      <td>0.000000</td>\n",
       "      <td>7.500000</td>\n",
       "    </tr>\n",
       "    <tr>\n",
       "      <th>75%</th>\n",
       "      <td>724810.000000</td>\n",
       "      <td>99999.000000</td>\n",
       "      <td>2000.000000</td>\n",
       "      <td>10.000000</td>\n",
       "      <td>23.000000</td>\n",
       "      <td>70.300003</td>\n",
       "      <td>24.000000</td>\n",
       "      <td>57.900002</td>\n",
       "      <td>1020.024994</td>\n",
       "      <td>1008.500000</td>\n",
       "      <td>14.900000</td>\n",
       "      <td>8.900000</td>\n",
       "      <td>15.500000</td>\n",
       "      <td>28.900000</td>\n",
       "      <td>60.799999</td>\n",
       "      <td>NaN</td>\n",
       "      <td>0.010000</td>\n",
       "      <td>13.800000</td>\n",
       "    </tr>\n",
       "    <tr>\n",
       "      <th>max</th>\n",
       "      <td>999999.000000</td>\n",
       "      <td>99999.000000</td>\n",
       "      <td>2010.000000</td>\n",
       "      <td>12.000000</td>\n",
       "      <td>31.000000</td>\n",
       "      <td>101.500000</td>\n",
       "      <td>24.000000</td>\n",
       "      <td>80.900002</td>\n",
       "      <td>1049.500000</td>\n",
       "      <td>1035.400024</td>\n",
       "      <td>99.400002</td>\n",
       "      <td>60.099998</td>\n",
       "      <td>73.800003</td>\n",
       "      <td>77.699997</td>\n",
       "      <td>95.000000</td>\n",
       "      <td>NaN</td>\n",
       "      <td>5.910000</td>\n",
       "      <td>87.000000</td>\n",
       "    </tr>\n",
       "  </tbody>\n",
       "</table>\n",
       "</div>"
      ],
      "text/plain": [
       "       station_number   wban_number         year        month          day  \\\n",
       "count     2017.000000   2017.000000  2017.000000  2017.000000  2017.000000   \n",
       "mean    509973.126921  90457.076351  1987.151215     6.525533    15.782846   \n",
       "std     296952.234483  26155.478601    15.822692     3.460300     8.742766   \n",
       "min      10016.000000     13.000000  1930.000000     1.000000     1.000000   \n",
       "25%     251730.000000  99999.000000  1977.000000     4.000000     8.000000   \n",
       "50%     549160.000000  99999.000000  1989.000000     6.000000    16.000000   \n",
       "75%     724810.000000  99999.000000  2000.000000    10.000000    23.000000   \n",
       "max     999999.000000  99999.000000  2010.000000    12.000000    31.000000   \n",
       "\n",
       "         mean_temp  num_mean_temp_samples  mean_dew_point  \\\n",
       "count  2017.000000            2017.000000     1930.000000   \n",
       "mean     52.004561              13.050570       41.554663   \n",
       "std      23.854037               7.932779       22.282850   \n",
       "min     -42.099998               4.000000      -48.099998   \n",
       "25%      36.900002               7.000000       28.299999   \n",
       "50%      55.799999               8.000000       43.799999   \n",
       "75%      70.300003              24.000000       57.900002   \n",
       "max     101.500000              24.000000       80.900002   \n",
       "\n",
       "       mean_sealevel_pressure  mean_station_pressure  mean_visibility  \\\n",
       "count             1540.000000             705.000000      1833.000000   \n",
       "mean              1014.837663             964.988512        12.338843   \n",
       "std                  9.437207              71.864377        10.154338   \n",
       "min                962.000000             601.900024         0.000000   \n",
       "25%               1009.400024             949.299988         6.400000   \n",
       "50%               1014.500000             993.200012         9.600000   \n",
       "75%               1020.024994            1008.500000        14.900000   \n",
       "max               1049.500000            1035.400024        99.400002   \n",
       "\n",
       "       mean_wind_speed  max_sustained_wind_speed  max_gust_wind_speed  \\\n",
       "count      1987.000000               1957.000000           278.000000   \n",
       "mean          6.816105                 12.179663            25.170144   \n",
       "std           4.997336                  6.823403             9.906159   \n",
       "min           0.000000                  1.000000             6.000000   \n",
       "25%           3.400000                  7.800000            19.000000   \n",
       "50%           5.800000                 11.100000            23.900000   \n",
       "75%           8.900000                 15.500000            28.900000   \n",
       "max          60.099998                 73.800003            77.699997   \n",
       "\n",
       "       max_temperature  min_temperature  total_precipitation  snow_depth  \n",
       "count      2016.000000              0.0          1864.000000  120.000000  \n",
       "mean         43.433036              NaN             0.065869   11.815000  \n",
       "std          23.664468              NaN             0.271214   14.265282  \n",
       "min         -47.000000              NaN             0.000000    0.400000  \n",
       "25%          30.200001              NaN             0.000000    3.025000  \n",
       "50%          46.000000              NaN             0.000000    7.500000  \n",
       "75%          60.799999              NaN             0.010000   13.800000  \n",
       "max          95.000000              NaN             5.910000   87.000000  "
      ]
     },
     "execution_count": 5,
     "metadata": {},
     "output_type": "execute_result"
    }
   ],
   "source": [
    "df.describe()"
   ]
  },
  {
   "cell_type": "markdown",
   "metadata": {},
   "source": [
    "### Show top 10 rows"
   ]
  },
  {
   "cell_type": "code",
   "execution_count": 6,
   "metadata": {
    "collapsed": false
   },
   "outputs": [
    {
     "data": {
      "text/html": [
       "<div>\n",
       "<style scoped>\n",
       "    .dataframe tbody tr th:only-of-type {\n",
       "        vertical-align: middle;\n",
       "    }\n",
       "\n",
       "    .dataframe tbody tr th {\n",
       "        vertical-align: top;\n",
       "    }\n",
       "\n",
       "    .dataframe thead th {\n",
       "        text-align: right;\n",
       "    }\n",
       "</style>\n",
       "<table border=\"1\" class=\"dataframe\">\n",
       "  <thead>\n",
       "    <tr style=\"text-align: right;\">\n",
       "      <th></th>\n",
       "      <th>station_number</th>\n",
       "      <th>wban_number</th>\n",
       "      <th>year</th>\n",
       "      <th>month</th>\n",
       "      <th>day</th>\n",
       "      <th>mean_temp</th>\n",
       "      <th>num_mean_temp_samples</th>\n",
       "      <th>mean_dew_point</th>\n",
       "      <th>num_mean_dew_point_samples</th>\n",
       "      <th>mean_sealevel_pressure</th>\n",
       "      <th>...</th>\n",
       "      <th>min_temperature</th>\n",
       "      <th>min_temperature_explicit</th>\n",
       "      <th>total_precipitation</th>\n",
       "      <th>snow_depth</th>\n",
       "      <th>fog</th>\n",
       "      <th>rain</th>\n",
       "      <th>snow</th>\n",
       "      <th>hail</th>\n",
       "      <th>thunder</th>\n",
       "      <th>tornado</th>\n",
       "    </tr>\n",
       "  </thead>\n",
       "  <tbody>\n",
       "    <tr>\n",
       "      <th>0</th>\n",
       "      <td>713740</td>\n",
       "      <td>99999</td>\n",
       "      <td>2001</td>\n",
       "      <td>1</td>\n",
       "      <td>30</td>\n",
       "      <td>16.000000</td>\n",
       "      <td>4</td>\n",
       "      <td>8.600000</td>\n",
       "      <td>4</td>\n",
       "      <td>NaN</td>\n",
       "      <td>...</td>\n",
       "      <td>NaN</td>\n",
       "      <td>None</td>\n",
       "      <td>0.00</td>\n",
       "      <td>NaN</td>\n",
       "      <td>False</td>\n",
       "      <td>False</td>\n",
       "      <td>False</td>\n",
       "      <td>False</td>\n",
       "      <td>False</td>\n",
       "      <td>False</td>\n",
       "    </tr>\n",
       "    <tr>\n",
       "      <th>1</th>\n",
       "      <td>702647</td>\n",
       "      <td>99999</td>\n",
       "      <td>2002</td>\n",
       "      <td>1</td>\n",
       "      <td>7</td>\n",
       "      <td>30.200001</td>\n",
       "      <td>10</td>\n",
       "      <td>21.200001</td>\n",
       "      <td>10</td>\n",
       "      <td>NaN</td>\n",
       "      <td>...</td>\n",
       "      <td>NaN</td>\n",
       "      <td>None</td>\n",
       "      <td>0.00</td>\n",
       "      <td>5.1</td>\n",
       "      <td>False</td>\n",
       "      <td>False</td>\n",
       "      <td>False</td>\n",
       "      <td>False</td>\n",
       "      <td>False</td>\n",
       "      <td>False</td>\n",
       "    </tr>\n",
       "    <tr>\n",
       "      <th>2</th>\n",
       "      <td>682400</td>\n",
       "      <td>99999</td>\n",
       "      <td>2005</td>\n",
       "      <td>12</td>\n",
       "      <td>1</td>\n",
       "      <td>75.099998</td>\n",
       "      <td>22</td>\n",
       "      <td>62.500000</td>\n",
       "      <td>22</td>\n",
       "      <td>NaN</td>\n",
       "      <td>...</td>\n",
       "      <td>NaN</td>\n",
       "      <td>None</td>\n",
       "      <td>1.12</td>\n",
       "      <td>NaN</td>\n",
       "      <td>False</td>\n",
       "      <td>False</td>\n",
       "      <td>False</td>\n",
       "      <td>False</td>\n",
       "      <td>False</td>\n",
       "      <td>False</td>\n",
       "    </tr>\n",
       "    <tr>\n",
       "      <th>3</th>\n",
       "      <td>344150</td>\n",
       "      <td>99999</td>\n",
       "      <td>1953</td>\n",
       "      <td>10</td>\n",
       "      <td>30</td>\n",
       "      <td>28.500000</td>\n",
       "      <td>4</td>\n",
       "      <td>18.500000</td>\n",
       "      <td>4</td>\n",
       "      <td>1029.500000</td>\n",
       "      <td>...</td>\n",
       "      <td>NaN</td>\n",
       "      <td>None</td>\n",
       "      <td>NaN</td>\n",
       "      <td>NaN</td>\n",
       "      <td>False</td>\n",
       "      <td>False</td>\n",
       "      <td>False</td>\n",
       "      <td>False</td>\n",
       "      <td>False</td>\n",
       "      <td>False</td>\n",
       "    </tr>\n",
       "    <tr>\n",
       "      <th>4</th>\n",
       "      <td>383410</td>\n",
       "      <td>99999</td>\n",
       "      <td>2005</td>\n",
       "      <td>4</td>\n",
       "      <td>23</td>\n",
       "      <td>62.500000</td>\n",
       "      <td>7</td>\n",
       "      <td>49.400002</td>\n",
       "      <td>7</td>\n",
       "      <td>1015.900024</td>\n",
       "      <td>...</td>\n",
       "      <td>NaN</td>\n",
       "      <td>None</td>\n",
       "      <td>0.00</td>\n",
       "      <td>NaN</td>\n",
       "      <td>False</td>\n",
       "      <td>False</td>\n",
       "      <td>False</td>\n",
       "      <td>False</td>\n",
       "      <td>False</td>\n",
       "      <td>False</td>\n",
       "    </tr>\n",
       "    <tr>\n",
       "      <th>5</th>\n",
       "      <td>747320</td>\n",
       "      <td>99999</td>\n",
       "      <td>1975</td>\n",
       "      <td>2</td>\n",
       "      <td>19</td>\n",
       "      <td>41.799999</td>\n",
       "      <td>24</td>\n",
       "      <td>10.800000</td>\n",
       "      <td>24</td>\n",
       "      <td>1015.700012</td>\n",
       "      <td>...</td>\n",
       "      <td>NaN</td>\n",
       "      <td>None</td>\n",
       "      <td>0.00</td>\n",
       "      <td>NaN</td>\n",
       "      <td>False</td>\n",
       "      <td>False</td>\n",
       "      <td>False</td>\n",
       "      <td>False</td>\n",
       "      <td>False</td>\n",
       "      <td>False</td>\n",
       "    </tr>\n",
       "    <tr>\n",
       "      <th>6</th>\n",
       "      <td>306220</td>\n",
       "      <td>99999</td>\n",
       "      <td>1978</td>\n",
       "      <td>10</td>\n",
       "      <td>16</td>\n",
       "      <td>25.000000</td>\n",
       "      <td>8</td>\n",
       "      <td>17.799999</td>\n",
       "      <td>8</td>\n",
       "      <td>1029.900024</td>\n",
       "      <td>...</td>\n",
       "      <td>NaN</td>\n",
       "      <td>None</td>\n",
       "      <td>0.00</td>\n",
       "      <td>NaN</td>\n",
       "      <td>False</td>\n",
       "      <td>False</td>\n",
       "      <td>False</td>\n",
       "      <td>False</td>\n",
       "      <td>False</td>\n",
       "      <td>False</td>\n",
       "    </tr>\n",
       "    <tr>\n",
       "      <th>7</th>\n",
       "      <td>583140</td>\n",
       "      <td>99999</td>\n",
       "      <td>2000</td>\n",
       "      <td>8</td>\n",
       "      <td>14</td>\n",
       "      <td>84.000000</td>\n",
       "      <td>8</td>\n",
       "      <td>76.800003</td>\n",
       "      <td>8</td>\n",
       "      <td>1002.700012</td>\n",
       "      <td>...</td>\n",
       "      <td>NaN</td>\n",
       "      <td>None</td>\n",
       "      <td>0.06</td>\n",
       "      <td>NaN</td>\n",
       "      <td>False</td>\n",
       "      <td>False</td>\n",
       "      <td>False</td>\n",
       "      <td>False</td>\n",
       "      <td>False</td>\n",
       "      <td>False</td>\n",
       "    </tr>\n",
       "    <tr>\n",
       "      <th>8</th>\n",
       "      <td>725377</td>\n",
       "      <td>14804</td>\n",
       "      <td>1960</td>\n",
       "      <td>4</td>\n",
       "      <td>15</td>\n",
       "      <td>55.799999</td>\n",
       "      <td>24</td>\n",
       "      <td>52.000000</td>\n",
       "      <td>24</td>\n",
       "      <td>1016.299988</td>\n",
       "      <td>...</td>\n",
       "      <td>NaN</td>\n",
       "      <td>None</td>\n",
       "      <td>NaN</td>\n",
       "      <td>NaN</td>\n",
       "      <td>True</td>\n",
       "      <td>True</td>\n",
       "      <td>True</td>\n",
       "      <td>True</td>\n",
       "      <td>True</td>\n",
       "      <td>True</td>\n",
       "    </tr>\n",
       "    <tr>\n",
       "      <th>9</th>\n",
       "      <td>133760</td>\n",
       "      <td>99999</td>\n",
       "      <td>2008</td>\n",
       "      <td>7</td>\n",
       "      <td>17</td>\n",
       "      <td>72.500000</td>\n",
       "      <td>8</td>\n",
       "      <td>55.400002</td>\n",
       "      <td>8</td>\n",
       "      <td>1014.200012</td>\n",
       "      <td>...</td>\n",
       "      <td>NaN</td>\n",
       "      <td>None</td>\n",
       "      <td>0.00</td>\n",
       "      <td>NaN</td>\n",
       "      <td>False</td>\n",
       "      <td>False</td>\n",
       "      <td>False</td>\n",
       "      <td>False</td>\n",
       "      <td>False</td>\n",
       "      <td>False</td>\n",
       "    </tr>\n",
       "  </tbody>\n",
       "</table>\n",
       "<p>10 rows × 31 columns</p>\n",
       "</div>"
      ],
      "text/plain": [
       "   station_number  wban_number  year  month  day  mean_temp  \\\n",
       "0          713740        99999  2001      1   30  16.000000   \n",
       "1          702647        99999  2002      1    7  30.200001   \n",
       "2          682400        99999  2005     12    1  75.099998   \n",
       "3          344150        99999  1953     10   30  28.500000   \n",
       "4          383410        99999  2005      4   23  62.500000   \n",
       "5          747320        99999  1975      2   19  41.799999   \n",
       "6          306220        99999  1978     10   16  25.000000   \n",
       "7          583140        99999  2000      8   14  84.000000   \n",
       "8          725377        14804  1960      4   15  55.799999   \n",
       "9          133760        99999  2008      7   17  72.500000   \n",
       "\n",
       "   num_mean_temp_samples  mean_dew_point num_mean_dew_point_samples  \\\n",
       "0                      4        8.600000                          4   \n",
       "1                     10       21.200001                         10   \n",
       "2                     22       62.500000                         22   \n",
       "3                      4       18.500000                          4   \n",
       "4                      7       49.400002                          7   \n",
       "5                     24       10.800000                         24   \n",
       "6                      8       17.799999                          8   \n",
       "7                      8       76.800003                          8   \n",
       "8                     24       52.000000                         24   \n",
       "9                      8       55.400002                          8   \n",
       "\n",
       "   mean_sealevel_pressure   ...    min_temperature  min_temperature_explicit  \\\n",
       "0                     NaN   ...                NaN                      None   \n",
       "1                     NaN   ...                NaN                      None   \n",
       "2                     NaN   ...                NaN                      None   \n",
       "3             1029.500000   ...                NaN                      None   \n",
       "4             1015.900024   ...                NaN                      None   \n",
       "5             1015.700012   ...                NaN                      None   \n",
       "6             1029.900024   ...                NaN                      None   \n",
       "7             1002.700012   ...                NaN                      None   \n",
       "8             1016.299988   ...                NaN                      None   \n",
       "9             1014.200012   ...                NaN                      None   \n",
       "\n",
       "  total_precipitation  snow_depth    fog   rain   snow   hail  thunder  \\\n",
       "0                0.00         NaN  False  False  False  False    False   \n",
       "1                0.00         5.1  False  False  False  False    False   \n",
       "2                1.12         NaN  False  False  False  False    False   \n",
       "3                 NaN         NaN  False  False  False  False    False   \n",
       "4                0.00         NaN  False  False  False  False    False   \n",
       "5                0.00         NaN  False  False  False  False    False   \n",
       "6                0.00         NaN  False  False  False  False    False   \n",
       "7                0.06         NaN  False  False  False  False    False   \n",
       "8                 NaN         NaN   True   True   True   True     True   \n",
       "9                0.00         NaN  False  False  False  False    False   \n",
       "\n",
       "   tornado  \n",
       "0    False  \n",
       "1    False  \n",
       "2    False  \n",
       "3    False  \n",
       "4    False  \n",
       "5    False  \n",
       "6    False  \n",
       "7    False  \n",
       "8     True  \n",
       "9    False  \n",
       "\n",
       "[10 rows x 31 columns]"
      ]
     },
     "execution_count": 6,
     "metadata": {},
     "output_type": "execute_result"
    }
   ],
   "source": [
    "df.head(10)"
   ]
  },
  {
   "cell_type": "markdown",
   "metadata": {},
   "source": [
    "### Aggregate for analysis"
   ]
  },
  {
   "cell_type": "markdown",
   "metadata": {},
   "source": [
    "10 highest total_precipitation samples"
   ]
  },
  {
   "cell_type": "code",
   "execution_count": 8,
   "metadata": {
    "collapsed": false
   },
   "outputs": [
    {
     "data": {
      "text/html": [
       "<div>\n",
       "<style scoped>\n",
       "    .dataframe tbody tr th:only-of-type {\n",
       "        vertical-align: middle;\n",
       "    }\n",
       "\n",
       "    .dataframe tbody tr th {\n",
       "        vertical-align: top;\n",
       "    }\n",
       "\n",
       "    .dataframe thead th {\n",
       "        text-align: right;\n",
       "    }\n",
       "</style>\n",
       "<table border=\"1\" class=\"dataframe\">\n",
       "  <thead>\n",
       "    <tr style=\"text-align: right;\">\n",
       "      <th></th>\n",
       "      <th>station_number</th>\n",
       "      <th>year</th>\n",
       "      <th>month</th>\n",
       "      <th>day</th>\n",
       "      <th>total_precipitation</th>\n",
       "    </tr>\n",
       "  </thead>\n",
       "  <tbody>\n",
       "    <tr>\n",
       "      <th>259</th>\n",
       "      <td>307770</td>\n",
       "      <td>1963</td>\n",
       "      <td>6</td>\n",
       "      <td>9</td>\n",
       "      <td>5.91</td>\n",
       "    </tr>\n",
       "    <tr>\n",
       "      <th>693</th>\n",
       "      <td>569770</td>\n",
       "      <td>1979</td>\n",
       "      <td>7</td>\n",
       "      <td>9</td>\n",
       "      <td>2.77</td>\n",
       "    </tr>\n",
       "    <tr>\n",
       "      <th>937</th>\n",
       "      <td>483570</td>\n",
       "      <td>1965</td>\n",
       "      <td>4</td>\n",
       "      <td>29</td>\n",
       "      <td>2.76</td>\n",
       "    </tr>\n",
       "    <tr>\n",
       "      <th>1286</th>\n",
       "      <td>588460</td>\n",
       "      <td>1979</td>\n",
       "      <td>3</td>\n",
       "      <td>13</td>\n",
       "      <td>2.76</td>\n",
       "    </tr>\n",
       "    <tr>\n",
       "      <th>1452</th>\n",
       "      <td>325400</td>\n",
       "      <td>1961</td>\n",
       "      <td>10</td>\n",
       "      <td>8</td>\n",
       "      <td>2.40</td>\n",
       "    </tr>\n",
       "    <tr>\n",
       "      <th>500</th>\n",
       "      <td>645560</td>\n",
       "      <td>1993</td>\n",
       "      <td>5</td>\n",
       "      <td>21</td>\n",
       "      <td>2.40</td>\n",
       "    </tr>\n",
       "    <tr>\n",
       "      <th>1902</th>\n",
       "      <td>722268</td>\n",
       "      <td>1984</td>\n",
       "      <td>5</td>\n",
       "      <td>28</td>\n",
       "      <td>1.93</td>\n",
       "    </tr>\n",
       "    <tr>\n",
       "      <th>337</th>\n",
       "      <td>987480</td>\n",
       "      <td>1991</td>\n",
       "      <td>6</td>\n",
       "      <td>27</td>\n",
       "      <td>1.89</td>\n",
       "    </tr>\n",
       "    <tr>\n",
       "      <th>1268</th>\n",
       "      <td>597580</td>\n",
       "      <td>1973</td>\n",
       "      <td>6</td>\n",
       "      <td>27</td>\n",
       "      <td>1.81</td>\n",
       "    </tr>\n",
       "    <tr>\n",
       "      <th>1859</th>\n",
       "      <td>764235</td>\n",
       "      <td>1979</td>\n",
       "      <td>1</td>\n",
       "      <td>23</td>\n",
       "      <td>1.81</td>\n",
       "    </tr>\n",
       "  </tbody>\n",
       "</table>\n",
       "</div>"
      ],
      "text/plain": [
       "      station_number  year  month  day  total_precipitation\n",
       "259           307770  1963      6    9                 5.91\n",
       "693           569770  1979      7    9                 2.77\n",
       "937           483570  1965      4   29                 2.76\n",
       "1286          588460  1979      3   13                 2.76\n",
       "1452          325400  1961     10    8                 2.40\n",
       "500           645560  1993      5   21                 2.40\n",
       "1902          722268  1984      5   28                 1.93\n",
       "337           987480  1991      6   27                 1.89\n",
       "1268          597580  1973      6   27                 1.81\n",
       "1859          764235  1979      1   23                 1.81"
      ]
     },
     "execution_count": 8,
     "metadata": {},
     "output_type": "execute_result"
    }
   ],
   "source": [
    "df.sort_values('total_precipitation', ascending=False).head(10)[['station_number', 'year', 'month', 'day', 'total_precipitation']]"
   ]
  }
 ],
 "metadata": {
  "colab": {
   "collapsed_sections": [],
   "default_view": {},
   "name": "Hello, Colaboratory",
   "provenance": [],
   "toc_visible": true,
   "version": "0.3.2",
   "views": {}
  },
  "kernelspec": {
   "display_name": "Python 3",
   "language": "python",
   "name": "python3"
  },
  "language_info": {
   "codemirror_mode": {
    "name": "ipython",
    "version": 3
   },
   "file_extension": ".py",
   "mimetype": "text/x-python",
   "name": "python",
   "nbconvert_exporter": "python",
   "pygments_lexer": "ipython3",
   "version": "3.5.5"
  }
 },
 "nbformat": 4,
 "nbformat_minor": 0
}
